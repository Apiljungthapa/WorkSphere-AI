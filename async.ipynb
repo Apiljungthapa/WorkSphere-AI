{
 "cells": [
  {
   "cell_type": "code",
   "execution_count": 2,
   "metadata": {},
   "outputs": [],
   "source": [
    "# import multiprocessing\n",
    "# print(multiprocessing.cpu_count())\n",
    "\n",
    "import asyncio\n",
    "import threading"
   ]
  },
  {
   "cell_type": "code",
   "execution_count": 3,
   "metadata": {},
   "outputs": [],
   "source": [
    "\n",
    "\n",
    "\n",
    "# # Aim\n",
    "# # 1. we want to create our own event loop\n",
    "# # 2. We want to create a coroutine function\n",
    "# # 3. We want to run the coroutine function\n",
    "\n",
    "# # async def a():\n",
    "# #     print(\"hello\")\n",
    "\n",
    "\n",
    "# # # a() # this will throw error bcoz when we are usning co routine function we have to use asyncio.run which is event loop function\n",
    "# # # Creates this async event loop for us\n",
    "# # asyncio.run(a())\n",
    "\n",
    "\n",
    "# loop = asyncio.new_event_loop() # we haved defined our own event loop\n",
    "\n",
    "# # define a task\n",
    "\n",
    "# async def llm_summarize():\n",
    "#     asyncio.sleep(17) # this will take 7 seconds\n",
    "#     print(\"Summarized successfully\")\n",
    "\n",
    "# # execute the task\n",
    "# loop.run_until_complete(llm_summarize())\n",
    "\n",
    "\n",
    "# print(\"Done\")\n",
    "\n",
    "\n",
    "# # await keyword\n",
    "\n"
   ]
  },
  {
   "cell_type": "markdown",
   "metadata": {},
   "source": [
    "# await keyword"
   ]
  },
  {
   "cell_type": "code",
   "execution_count": 3,
   "metadata": {},
   "outputs": [
    {
     "ename": "RuntimeError",
     "evalue": "asyncio.run() cannot be called from a running event loop",
     "output_type": "error",
     "traceback": [
      "\u001b[31m---------------------------------------------------------------------------\u001b[39m",
      "\u001b[31mRuntimeError\u001b[39m                              Traceback (most recent call last)",
      "\u001b[36mCell\u001b[39m\u001b[36m \u001b[39m\u001b[32mIn[3]\u001b[39m\u001b[32m, line 18\u001b[39m\n\u001b[32m     15\u001b[39m     z=x+y\n\u001b[32m     16\u001b[39m     \u001b[38;5;28mprint\u001b[39m(z)\n\u001b[32m---> \u001b[39m\u001b[32m18\u001b[39m \u001b[43masyncio\u001b[49m\u001b[43m.\u001b[49m\u001b[43mrun\u001b[49m\u001b[43m(\u001b[49m\u001b[43mmain\u001b[49m\u001b[43m(\u001b[49m\u001b[43m)\u001b[49m\u001b[43m)\u001b[49m\n",
      "\u001b[36mFile \u001b[39m\u001b[32m~\\AppData\\Local\\Programs\\Python\\Python312\\Lib\\asyncio\\runners.py:190\u001b[39m, in \u001b[36mrun\u001b[39m\u001b[34m(main, debug, loop_factory)\u001b[39m\n\u001b[32m    161\u001b[39m \u001b[38;5;250m\u001b[39m\u001b[33;03m\"\"\"Execute the coroutine and return the result.\u001b[39;00m\n\u001b[32m    162\u001b[39m \n\u001b[32m    163\u001b[39m \u001b[33;03mThis function runs the passed coroutine, taking care of\u001b[39;00m\n\u001b[32m   (...)\u001b[39m\u001b[32m    186\u001b[39m \u001b[33;03m    asyncio.run(main())\u001b[39;00m\n\u001b[32m    187\u001b[39m \u001b[33;03m\"\"\"\u001b[39;00m\n\u001b[32m    188\u001b[39m \u001b[38;5;28;01mif\u001b[39;00m events._get_running_loop() \u001b[38;5;129;01mis\u001b[39;00m \u001b[38;5;129;01mnot\u001b[39;00m \u001b[38;5;28;01mNone\u001b[39;00m:\n\u001b[32m    189\u001b[39m     \u001b[38;5;66;03m# fail fast with short traceback\u001b[39;00m\n\u001b[32m--> \u001b[39m\u001b[32m190\u001b[39m     \u001b[38;5;28;01mraise\u001b[39;00m \u001b[38;5;167;01mRuntimeError\u001b[39;00m(\n\u001b[32m    191\u001b[39m         \u001b[33m\"\u001b[39m\u001b[33masyncio.run() cannot be called from a running event loop\u001b[39m\u001b[33m\"\u001b[39m)\n\u001b[32m    193\u001b[39m \u001b[38;5;28;01mwith\u001b[39;00m Runner(debug=debug, loop_factory=loop_factory) \u001b[38;5;28;01mas\u001b[39;00m runner:\n\u001b[32m    194\u001b[39m     \u001b[38;5;28;01mreturn\u001b[39;00m runner.run(main)\n",
      "\u001b[31mRuntimeError\u001b[39m: asyncio.run() cannot be called from a running event loop"
     ]
    }
   ],
   "source": [
    "# await\n",
    "# 1. used to pause a co routing so that another co routine canget executed tp completion\n",
    "# 2. Await should always be insdie co routine\n",
    "\n",
    "async def square(n):\n",
    "    return n * n\n",
    "\n",
    "async def main():\n",
    "    x = await square(5)\n",
    "    print(x)\n",
    "\n",
    "    y= await square(10)\n",
    "    print(y)\n",
    "\n",
    "    z=x+y\n",
    "    print(z)\n",
    "\n",
    "asyncio.run(main())\n"
   ]
  },
  {
   "cell_type": "code",
   "execution_count": 1,
   "metadata": {},
   "outputs": [
    {
     "name": "stdout",
     "output_type": "stream",
     "text": [
      "6\n"
     ]
    }
   ],
   "source": [
    "import threading\n",
    "print(threading.active_count())"
   ]
  },
  {
   "cell_type": "code",
   "execution_count": 2,
   "metadata": {},
   "outputs": [
    {
     "name": "stdout",
     "output_type": "stream",
     "text": [
      "Both processes completed\n"
     ]
    }
   ],
   "source": [
    "import multiprocessing\n",
    "import time\n",
    "\n",
    "def worker(name):\n",
    "    print(f\"Process {name} starting\")\n",
    "    time.sleep(2)\n",
    "    print(f\"Process {name} completed\")\n",
    "\n",
    "if __name__ == \"__main__\":\n",
    "    p1 = multiprocessing.Process(target=worker, args=(\"P1\",))\n",
    "    p2 = multiprocessing.Process(target=worker, args=(\"P2\",))\n",
    "\n",
    "    p1.start()\n",
    "    p2.start()\n",
    "\n",
    "    p1.join()\n",
    "    p2.join()\n",
    "\n",
    "    print(\"Both processes completed\")\n"
   ]
  },
  {
   "cell_type": "code",
   "execution_count": 6,
   "metadata": {},
   "outputs": [
    {
     "name": "stdout",
     "output_type": "stream",
     "text": [
      "Hello\n",
      "World\n"
     ]
    }
   ],
   "source": [
    "# Event loop ayncio\n",
    "import asyncio\n",
    "\n",
    "async def say_hello():\n",
    "    print(\"Hello\")\n",
    "    await asyncio.sleep(10)\n",
    "    print(\"World\")\n",
    "\n",
    "async def main():\n",
    "    await say_hello()\n",
    "\n",
    "await main() "
   ]
  },
  {
   "cell_type": "code",
   "execution_count": 7,
   "metadata": {},
   "outputs": [
    {
     "name": "stdout",
     "output_type": "stream",
     "text": [
      "Starting Task 1...\n",
      "Starting Task 2...\n",
      "Completed Task 1!\n",
      "Completed Task 2!\n"
     ]
    }
   ],
   "source": [
    "import asyncio\n",
    "\n",
    "async def task(name):\n",
    "    print(f\"Starting {name}...\")\n",
    "    await asyncio.sleep(2)\n",
    "    print(f\"Completed {name}!\")\n",
    "\n",
    "async def main():\n",
    "    await asyncio.gather(task(\"Task 1\"), task(\"Task 2\"))\n",
    "\n",
    "await main() \n"
   ]
  },
  {
   "cell_type": "code",
   "execution_count": null,
   "metadata": {},
   "outputs": [
    {
     "name": "stdout",
     "output_type": "stream",
     "text": [
      "0\n",
      "0\n",
      "1\n",
      "1\n",
      "2\n",
      "2\n",
      "3\n",
      "3\n",
      "4\n",
      "4\n"
     ]
    }
   ],
   "source": [
    "import asyncio\n",
    "\n",
    "async def count():\n",
    "    for i in range(5):\n",
    "        print(i)\n",
    "        await asyncio.sleep(1) \n",
    "\n",
    "async def main():\n",
    "    await asyncio.gather(count(), count())\n",
    "\n",
    "await(main())"
   ]
  },
  {
   "cell_type": "code",
   "execution_count": null,
   "metadata": {},
   "outputs": [],
   "source": []
  }
 ],
 "metadata": {
  "kernelspec": {
   "display_name": "venv",
   "language": "python",
   "name": "python3"
  },
  "language_info": {
   "codemirror_mode": {
    "name": "ipython",
    "version": 3
   },
   "file_extension": ".py",
   "mimetype": "text/x-python",
   "name": "python",
   "nbconvert_exporter": "python",
   "pygments_lexer": "ipython3",
   "version": "3.12.6"
  }
 },
 "nbformat": 4,
 "nbformat_minor": 2
}
